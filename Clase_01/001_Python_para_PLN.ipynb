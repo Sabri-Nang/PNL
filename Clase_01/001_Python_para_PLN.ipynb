{
  "cells": [
    {
      "cell_type": "markdown",
      "metadata": {
        "id": "bMcPd2LD9VwQ"
      },
      "source": [
        "# Clase 1: Fundamentos de Python 🐍 - Herramientas para Lingüistica Computacional\n",
        "\n",
        "## ¿Qué Haremos Hoy?\n",
        "1.  **Variables:** Las \"cajas\" para guardar información.\n",
        "2.  **Tipos de Datos:** ¿Qué guardamos en esas cajas? (Texto, números, etc.).\n",
        "3.  **Operadores:** Cómo hacer cosas con nuestros datos.\n",
        "4.  **Condicionales:** Cómo hacer que nuestro programa tome decisiones."
      ]
    },
    {
      "cell_type": "markdown",
      "metadata": {
        "id": "zFUI8wiM9nGf"
      },
      "source": [
        "## 1. Variables: Nuestras \"Cajas\" con Nombre\n",
        "\n",
        "Una variable es simplemente un contenedor donde guardamos un dato para usarlo más tarde. Le damos un nombre para poder referirnos a ella.\n",
        "\n",
        "**Reglas para los nombres:**\n",
        "* No pueden empezar con un número.\n",
        "* No pueden tener espacios (usa `_` en su lugar, como `mi_variable`).\n",
        "* No uses palabras que Python ya reserva para sí mismo (como `print`, `if`, etc.)."
      ]
    },
    {
      "cell_type": "code",
      "execution_count": 2,
      "metadata": {
        "id": "cUYvVTt285o9"
      },
      "outputs": [
        {
          "name": "stdout",
          "output_type": "stream",
          "text": [
            "Hola, mundo del PLN!\n"
          ]
        }
      ],
      "source": [
        "# Creamos nuestra primera variable.\n",
        "# La variable se llama 'saludo' y contiene el texto \"Hola, mundo del PLN!\"\n",
        "saludo = \"Hola, mundo del PLN!\"\n",
        "\n",
        "# Usamos la función print() para mostrar lo que hay dentro de nuestra variable.\n",
        "print(saludo)"
      ]
    },
    {
      "cell_type": "markdown",
      "metadata": {
        "id": "O_Rxi4Ei-DXR"
      },
      "source": [
        "## 2. Tipos de Datos: ¿Qué hay dentro de las cajas?\n",
        "\n",
        "No todos los datos son iguales. Python distingue principalmente entre:\n",
        "\n",
        "* **String (`str`):** Texto, siempre entre comillas (`\" \"`). ¡El tipo de dato más importante para nosotros en PLN!\n",
        "* **Integer (`int`):** Números enteros (ej: `10`, `-5`).\n",
        "* **Float (`float`):** Números con decimales (ej: `3.14`).\n",
        "* **Boolean (`bool`):** Representa la verdad. Solo puede ser `True` o `False`.\n",
        "\n",
        "Para saber qué tipo de dato tiene una variable, usamos la función `type()`."
      ]
    },
    {
      "cell_type": "code",
      "execution_count": 3,
      "metadata": {
        "id": "bbpwvq56-EUs"
      },
      "outputs": [
        {
          "name": "stdout",
          "output_type": "stream",
          "text": [
            "<class 'str'>\n",
            "<class 'int'>\n",
            "<class 'bool'>\n"
          ]
        }
      ],
      "source": [
        "# Variable de tipo String\n",
        "oracion = \"El análisis de texto es fascinante.\"\n",
        "\n",
        "# Variable de tipo Integer\n",
        "cantidad_de_palabras = 6\n",
        "\n",
        "# Variable de tipo Boolean\n",
        "es_interesante = True\n",
        "\n",
        "# Usemos type() para verificar\n",
        "print(type(oracion))\n",
        "print(type(cantidad_de_palabras))\n",
        "print(type(es_interesante))"
      ]
    },
    {
      "cell_type": "markdown",
      "metadata": {
        "id": "_ZuECWbWCoj2"
      },
      "source": [
        "> **Nota importante:** ¿Por qué nos importa el tipo de dato? Porque define qué operaciones podemos hacer. Por ejemplo, podemos `sumar` dos números, pero no podemos `dividir` un texto. `type()` es nuestro mejor amigo para no cometer errores."
      ]
    },
    {
      "cell_type": "markdown",
      "metadata": {
        "id": "exBYLuph-W_S"
      },
      "source": [
        "## 3. Operadores: Haciendo Cosas con los Datos\n",
        "\n",
        "Podemos combinar y comparar nuestras variables usando operadores.\n",
        "\n",
        "* **Operador `+` con texto:** Une (concatena) dos strings.\n",
        "* **Operadores de comparación (`==`, `!=`):** Preguntan si dos valores son iguales o diferentes. ¡Siempre devuelven un Booleano (`True` o `False`)!"
      ]
    },
    {
      "cell_type": "code",
      "execution_count": 5,
      "metadata": {
        "id": "Ou-tiI5F-Xzj"
      },
      "outputs": [
        {
          "name": "stdout",
          "output_type": "stream",
          "text": [
            "procesamiento de lenguaje\n"
          ]
        }
      ],
      "source": [
        "palabra1 = \"procesamiento\"\n",
        "palabra2 = \"lenguaje\"\n",
        "\n",
        "# Unimos las palabras con un espacio en medio\n",
        "frase_completa = palabra1 + \" de \" + palabra2\n",
        "print(frase_completa)"
      ]
    },
    {
      "cell_type": "code",
      "execution_count": 6,
      "metadata": {
        "id": "jz5Q8KEy-icx"
      },
      "outputs": [
        {
          "name": "stdout",
          "output_type": "stream",
          "text": [
            "¿Son iguales numero_a y numero_b?\n",
            "False\n"
          ]
        }
      ],
      "source": [
        "# Comparemos dos números\n",
        "numero_a = 10\n",
        "numero_b = 20\n",
        "print(\"¿Son iguales numero_a y numero_b?\")\n",
        "print(numero_a == numero_b) # Esto imprimirá False"
      ]
    },
    {
      "cell_type": "markdown",
      "metadata": {
        "id": "w_sby7GP-pUG"
      },
      "source": [
        "## 4. Condicionales: Tomando Decisiones\n",
        "\n",
        "Los condicionales `if`, `elif` y `else` permiten que nuestro programa ejecute cierto código solo si se cumple una condición.\n",
        "\n",
        "La **indentación** (el espacio al principio de la línea) es MUY importante. Le dice a Python qué código pertenece al `if`."
      ]
    },
    {
      "cell_type": "code",
      "execution_count": 7,
      "metadata": {
        "id": "V8Bh9fCP-o6F"
      },
      "outputs": [
        {
          "name": "stdout",
          "output_type": "stream",
          "text": [
            "Esa es una palabra interesante, ¡pero no es Python!\n"
          ]
        }
      ],
      "source": [
        "# Pedimos al usuario que escriba una palabra\n",
        "palabra_usuario = input(\"Escribí una palabra clave (ej: Python): \")\n",
        "\n",
        "# El programa decide qué hacer basándose en la palabra\n",
        "if palabra_usuario == \"Python\":\n",
        "    print(\"¡Genial! Ese es el lenguaje que estamos aprendiendo.\")\n",
        "else:\n",
        "    print(\"Esa es una palabra interesante, ¡pero no es Python!\")"
      ]
    },
    {
      "cell_type": "markdown",
      "metadata": {
        "id": "h7g9LYwVC24X"
      },
      "source": [
        "## Ejercicio Práctico 1: Analizador Simple de Frases\n",
        "\n",
        "¡Es hora de poner a prueba lo que aprendimos! Vamos a crear un programa que analice una frase que ingrese el usuario y nos diga algunas cosas sobre ella.\n",
        "\n",
        "**Consigna:**\n",
        "\n",
        "1.  Pedí al usuario que ingrese una frase usando `input()`.\n",
        "2.  Verifica si la palabra \"Python\" está en la frase.\n",
        "3.  Verifica si la frase es corta (menos de 20 caracteres) o larga.\n",
        "4.  Imprimí un mensaje diferente para cada caso."
      ]
    },
    {
      "cell_type": "code",
      "execution_count": 8,
      "metadata": {
        "id": "lKxdo_nhDJbu"
      },
      "outputs": [
        {
          "name": "stdout",
          "output_type": "stream",
          "text": [
            "La frase tiene 0 caracteres.\n",
            "Es una frase corta, ¡directa al punto!\n"
          ]
        }
      ],
      "source": [
        "# 1. Pedí al usuario que ingrese una frase\n",
        "frase_usuario = input(\"Por favor, ingresa una frase: \")\n",
        "\n",
        "# Medí la longitud de la frase\n",
        "longitud_frase = len(frase_usuario)\n",
        "\n",
        "print(f\"La frase tiene {longitud_frase} caracteres.\")\n",
        "\n",
        "# 2. Revisá las condiciones con if/elif/else\n",
        "# ¡Tu código va acá!\n",
        "\n",
        "# Pista: Podes usar el operador 'in' para ver si un texto está dentro de otro.\n",
        "# Ejemplo: if \"palabra\" in mi_frase:\n",
        "\n",
        "if \"Python\" in frase_usuario:\n",
        "    print(\"¡Excelente! Tu frase menciona nuestro lenguaje de programación favorito.\")\n",
        "elif longitud_frase < 20:\n",
        "    print(\"Es una frase corta, ¡directa al punto!\")\n",
        "else:\n",
        "    print(\"Una frase interesante y de buena longitud.\")"
      ]
    },
    {
      "cell_type": "markdown",
      "metadata": {
        "id": "b-W8YA1pDffS"
      },
      "source": [
        "---\n",
        "## Glosario Rápido de la Clase 1\n",
        "\n",
        "* **Variable**: Un nombre que usamos para guardar un valor en la memoria del programa.\n",
        "* **String (`str`)**: Un tipo de dato que representa texto. Se define con comillas (`\"hola\"`).\n",
        "* **Integer (`int`)**: Tipo de dato para números enteros, sin decimales (ej: `10`, `-3`).\n",
        "* **Float (`float`)**: Tipo de dato para números con decimales (ej: `9.5`, `3.1416`).\n",
        "* **Boolean (`bool`)**: Un tipo de dato que solo tiene dos valores posibles: `True` (verdadero) o `False` (falso).\n",
        "* **Operador**: Un símbolo que realiza una acción, como `+` para unir texto o `==` para comparar si dos cosas son iguales.\n",
        "* **Condicional (`if`, `elif`, `else`)**: Una estructura que le permite a tu programa tomar decisiones y ejecutar diferentes bloques de código según se cumpla o no una condición.\n",
        "* **Indentación**: Los espacios al principio de una línea. En Python, es fundamental y define qué código pertenece a un `if`, un bucle, etc.\n",
        "* **Función**: Un bloque de código con nombre que realiza una tarea específica (ej: `print()`, `len()`, `type()`).\n",
        "---"
      ]
    },
    {
      "cell_type": "markdown",
      "metadata": {
        "id": "so0HNyTN_eXZ"
      },
      "source": [
        "## 5. Estructuras de Datos: Organizando nuestra Información\n",
        "\n",
        "En PLN, necesitamos manejar colecciones de datos. Python nos ofrece varias formas de hacerlo:\n",
        "\n",
        "* **Listas (`list`):** Colecciones ordenadas y modificables de elementos.\n",
        "* **Tuplas (`tuple`):** Colecciones ordenadas pero INMODIFICABLES de elementos.\n",
        "* **Diccionarios (`dict`):** Colecciones de pares clave-valor (como un diccionario real)."
      ]
    },
    {
      "cell_type": "code",
      "execution_count": 9,
      "metadata": {
        "id": "q7shxpkD_fN3"
      },
      "outputs": [
        {
          "name": "stdout",
          "output_type": "stream",
          "text": [
            "Lista original: ['hola', 'mundo', 'nlp', 'python']\n"
          ]
        }
      ],
      "source": [
        "# Listas (pueden modificarse)\n",
        "palabras = ['hola', 'mundo', 'nlp', 'python']\n",
        "print(\"Lista original:\", palabras)"
      ]
    },
    {
      "cell_type": "code",
      "execution_count": 10,
      "metadata": {
        "id": "4c0F3mQD_p0S"
      },
      "outputs": [
        {
          "name": "stdout",
          "output_type": "stream",
          "text": [
            "Después de append: ['hola', 'mundo', 'nlp', 'python', 'texto']\n"
          ]
        }
      ],
      "source": [
        "# Agregar elemento\n",
        "palabras.append('texto')\n",
        "print(\"Después de append:\", palabras)"
      ]
    },
    {
      "cell_type": "code",
      "execution_count": 11,
      "metadata": {
        "id": "OB0sWF_b_puE"
      },
      "outputs": [
        {
          "name": "stdout",
          "output_type": "stream",
          "text": [
            "Después de remove: ['hola', 'nlp', 'python', 'texto']\n"
          ]
        }
      ],
      "source": [
        "# Remover elemento\n",
        "palabras.remove('mundo')\n",
        "print(\"Después de remove:\", palabras)"
      ]
    },
    {
      "cell_type": "code",
      "execution_count": 12,
      "metadata": {
        "id": "GmpBmkTF_pnC"
      },
      "outputs": [
        {
          "name": "stdout",
          "output_type": "stream",
          "text": [
            "Primera palabra: hola\n",
            "Última palabra: texto\n"
          ]
        }
      ],
      "source": [
        "# Acceder por índice\n",
        "print(\"Primera palabra:\", palabras[0])\n",
        "print(\"Última palabra:\", palabras[-1])"
      ]
    },
    {
      "cell_type": "code",
      "execution_count": 13,
      "metadata": {
        "id": "cveEdpXe_0bC"
      },
      "outputs": [
        {
          "name": "stdout",
          "output_type": "stream",
          "text": [
            "Tupla de coordenadas: (4, 5)\n",
            "Segundo color: verde\n"
          ]
        }
      ],
      "source": [
        "# Tuplas (NO pueden modificarse)\n",
        "coordenadas = (4, 5)\n",
        "colores = ('rojo', 'verde', 'azul')\n",
        "\n",
        "print(\"Tupla de coordenadas:\", coordenadas)\n",
        "print(\"Segundo color:\", colores[1])"
      ]
    },
    {
      "cell_type": "code",
      "execution_count": 14,
      "metadata": {
        "id": "OOe7sJu-_-Ok"
      },
      "outputs": [],
      "source": [
        "# Esto causaría un error:\n",
        "#colores[1] = 'amarillo'  # Descomenta para ver el error"
      ]
    },
    {
      "cell_type": "code",
      "execution_count": 15,
      "metadata": {
        "id": "eZekMeklAIe7"
      },
      "outputs": [
        {
          "name": "stdout",
          "output_type": "stream",
          "text": [
            "Diccionario original: {'python': 15, 'nlp': 23, 'texto': 42}\n"
          ]
        }
      ],
      "source": [
        "# Diccionarios (clave-valor)\n",
        "frecuencia_palabras = {'python': 15, 'nlp': 23, 'texto': 42}\n",
        "print(\"Diccionario original:\", frecuencia_palabras)"
      ]
    },
    {
      "cell_type": "code",
      "execution_count": 16,
      "metadata": {
        "id": "QUZQdodwAKrV"
      },
      "outputs": [
        {
          "name": "stdout",
          "output_type": "stream",
          "text": [
            "Después de agregar 'datos': {'python': 15, 'nlp': 23, 'texto': 42, 'datos': 18}\n"
          ]
        }
      ],
      "source": [
        "# Agregar nueva entrada\n",
        "frecuencia_palabras['datos'] = 18\n",
        "print(\"Después de agregar 'datos':\", frecuencia_palabras)"
      ]
    },
    {
      "cell_type": "code",
      "execution_count": 17,
      "metadata": {
        "id": "SjuSdoBDAKnt"
      },
      "outputs": [
        {
          "name": "stdout",
          "output_type": "stream",
          "text": [
            "Frecuencia de 'nlp': 23\n",
            "Frecuencia de palabra inexistente: 0\n"
          ]
        }
      ],
      "source": [
        "# Acceder a valores\n",
        "print(\"Frecuencia de 'nlp':\", frecuencia_palabras.get('nlp', 0))\n",
        "print(\"Frecuencia de palabra inexistente:\", frecuencia_palabras.get('inexistente', 0))"
      ]
    },
    {
      "cell_type": "code",
      "execution_count": 18,
      "metadata": {
        "id": "JpoRqGReAk_G"
      },
      "outputs": [
        {
          "name": "stdout",
          "output_type": "stream",
          "text": [
            "El texto tiene más de 3 palabras\n",
            "Y además menciona NLP!\n"
          ]
        }
      ],
      "source": [
        "# Condicionales con estructuras de datos\n",
        "texto = \"Python es excelente para NLP\"\n",
        "palabras_texto = texto.split()\n",
        "\n",
        "if len(palabras_texto) > 3:\n",
        "    print(\"El texto tiene más de 3 palabras\")\n",
        "    if \"NLP\" in palabras_texto:\n",
        "        print(\"Y además menciona NLP!\")\n",
        "elif \"Python\" in palabras_texto:\n",
        "    print(\"El texto menciona Python\")\n",
        "else:\n",
        "    print(\"Texto corto sin palabras clave reconocidas\")"
      ]
    },
    {
      "cell_type": "code",
      "execution_count": 19,
      "metadata": {
        "id": "BdwBJqW2Aypa"
      },
      "outputs": [
        {
          "name": "stdout",
          "output_type": "stream",
          "text": [
            "Palabras largas en el texto:\n",
            "- Python (6 letras)\n",
            "- lenguaje (8 letras)\n",
            "- programación (12 letras)\n",
            "- ampliamente (11 letras)\n",
            "- utilizado (9 letras)\n"
          ]
        }
      ],
      "source": [
        "# Bucles para procesar listas\n",
        "texto = \"Python es un lenguaje de programación ampliamente utilizado en PLN\"\n",
        "\n",
        "print(\"Palabras largas en el texto:\")\n",
        "for palabra in texto.split():\n",
        "    if len(palabra) > 5:  # Palabras de más de 5 letras\n",
        "        print(f\"- {palabra} ({len(palabra)} letras)\")"
      ]
    },
    {
      "cell_type": "markdown",
      "metadata": {
        "id": "E9DyAER9BFkN"
      },
      "source": [
        "##Ejercicio Practico"
      ]
    },
    {
      "cell_type": "code",
      "execution_count": 20,
      "metadata": {
        "id": "yrTDTtQOBGEN"
      },
      "outputs": [
        {
          "name": "stdout",
          "output_type": "stream",
          "text": [
            "¡Intenta resolver este ejercicio!\n"
          ]
        }
      ],
      "source": [
        "# Ejercicio: Contador de palabras\n",
        "texto = \"Python es un lenguaje de programación ampliamente utilizado en el procesamiento del lenguaje natural\"\n",
        "\n",
        "# Tu código acá:\n",
        "# 1. Convertir texto a minúsculas\n",
        "# 2. Dividir en palabras\n",
        "# 3. Contar frecuencia de cada palabra\n",
        "\n",
        "print(\"¡Intenta resolver este ejercicio!\")"
      ]
    }
  ],
  "metadata": {
    "colab": {
      "provenance": []
    },
    "kernelspec": {
      "display_name": "base",
      "language": "python",
      "name": "python3"
    },
    "language_info": {
      "codemirror_mode": {
        "name": "ipython",
        "version": 3
      },
      "file_extension": ".py",
      "mimetype": "text/x-python",
      "name": "python",
      "nbconvert_exporter": "python",
      "pygments_lexer": "ipython3",
      "version": "3.12.7"
    }
  },
  "nbformat": 4,
  "nbformat_minor": 0
}
