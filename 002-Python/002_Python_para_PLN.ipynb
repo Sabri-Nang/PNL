{
  "cells": [
    {
      "cell_type": "markdown",
      "metadata": {
        "id": "Ygt4gGWFEfI1"
      },
      "source": [
        "# Clase 2: Estructuras Avanzadas y Aplicaciones en PLN 🛠️\n",
        "\n",
        "Ya vimos los elementos minimos fudamentales de Python (variables, condicionales). Hoy, vamos a construir con ellos: crearemos herramientas reutilizables, organizaremos nuestro código de manera profesional y, al final, ¡construiremos una aplicación web interactiva para analizar texto!\n",
        "\n",
        "## Hoja de Ruta (2 horas)\n",
        "1.  **Calentamiento: Manipulación Avanzada de Texto** (20 min)\n",
        "2.  **Funciones: Creando Herramientas a Medida** (25 min)\n",
        "3.  **Programación Orientada a Objetos (POO): El Salto a un Código Profesional** (30 min)\n",
        "4.  **Ejercicio Práctico 1: Expandiendo Nuestras Clases** (15 min)\n",
        "5.  **Ejercicio Integrador Final: De Python a Aplicación Web con Gradio** (30 min)"
      ]
    },
    {
      "cell_type": "markdown",
      "metadata": {
        "id": "Mw127D_FE0MO"
      },
      "source": [
        "## 1. Calentamiento: Manipulación Avanzada de Texto\n",
        "\n",
        "En PLN, el 90% del trabajo es \"limpiar\" y \"preparar\" el texto. Por suerte, los strings en Python vienen con \"superpoderes\" incorporados llamados **métodos**, que nos facilitan enormemente esta tarea."
      ]
    },
    {
      "cell_type": "code",
      "execution_count": 1,
      "metadata": {
        "id": "ibQ7oC8eEayh"
      },
      "outputs": [],
      "source": [
        "# Métodos útiles de strings que usaremos constantemente\n",
        "texto = \"  Procesamiento del Lenguaje Natural en el Rio de la Plata \""
      ]
    },
    {
      "cell_type": "code",
      "execution_count": 2,
      "metadata": {
        "id": "yYtXp_NIFEY3"
      },
      "outputs": [
        {
          "name": "stdout",
          "output_type": "stream",
          "text": [
            "Original: '  Procesamiento del Lenguaje Natural en el Rio de la Plata '\n",
            "Con .strip(): 'Procesamiento del Lenguaje Natural en el Rio de la Plata'\n"
          ]
        }
      ],
      "source": [
        "# .strip() -> Elimina espacios en blanco al inicio y al final\n",
        "print(f\"Original: '{texto}'\")\n",
        "print(f\"Con .strip(): '{texto.strip()}'\")"
      ]
    },
    {
      "cell_type": "code",
      "execution_count": 3,
      "metadata": {
        "id": "uePcJAMeFEV0"
      },
      "outputs": [
        {
          "name": "stdout",
          "output_type": "stream",
          "text": [
            "Con .lower(): '  procesamiento del lenguaje natural en el rio de la plata '\n",
            "Con .upper(): '  PROCESAMIENTO DEL LENGUAJE NATURAL EN EL RIO DE LA PLATA '\n"
          ]
        }
      ],
      "source": [
        "# .lower() y .upper() -> Convierten a minúsculas y mayúsculas\n",
        "print(f\"Con .lower(): '{texto.lower()}'\")\n",
        "print(f\"Con .upper(): '{texto.upper()}'\")"
      ]
    },
    {
      "cell_type": "code",
      "execution_count": 4,
      "metadata": {
        "id": "cNL8q9u1FEMF"
      },
      "outputs": [
        {
          "name": "stdout",
          "output_type": "stream",
          "text": [
            "Con .replace(): '  Procesamiento del Idioma Natural en el Rio de la Plata '\n"
          ]
        }
      ],
      "source": [
        "# .replace('viejo', 'nuevo') -> Reemplaza una parte del texto por otra\n",
        "print(f\"Con .replace(): '{texto.replace('Lenguaje', 'Idioma')}'\")"
      ]
    },
    {
      "cell_type": "code",
      "execution_count": 5,
      "metadata": {
        "id": "0CcFm_tjFEJY"
      },
      "outputs": [
        {
          "name": "stdout",
          "output_type": "stream",
          "text": [
            "Con .split(): ['Procesamiento', 'del', 'Lenguaje', 'Natural', 'en', 'el', 'Rio', 'de', 'la', 'Plata']\n"
          ]
        }
      ],
      "source": [
        "# .split() -> Divide un string en una lista de palabras (¡lo vimos en la Clase 1!)\n",
        "print(f\"Con .split(): {texto.split()}\")"
      ]
    },
    {
      "cell_type": "code",
      "execution_count": 6,
      "metadata": {
        "id": "2nA9GIfKFEG0"
      },
      "outputs": [
        {
          "name": "stdout",
          "output_type": "stream",
          "text": [
            "Con .join(): 'El NLP es genial'\n"
          ]
        }
      ],
      "source": [
        "# 'separador'.join(lista) -> Une los elementos de una lista en un solo string\n",
        "palabras_a_unir = [\"El\", \"NLP\", \"es\", \"genial\"]\n",
        "print(f\"Con .join(): '{' '.join(palabras_a_unir)}'\")"
      ]
    },
    {
      "cell_type": "markdown",
      "metadata": {
        "id": "zxwaAwpjFk1s"
      },
      "source": [
        "## 2. Funciones: Creacion de Herramientas a Medida\n",
        "\n",
        "Ya sabemos crear funciones, pero ahora vamos a usarlas como lo hacen los profesionales: para encapsular una lógica específica y hacer nuestro código más limpio y reutilizable. Una buena función hace **una sola cosa y la hace bien**.\n",
        "\n",
        "Vamos a crear una función que limpie un texto y otra que, usando la primera, cuente las palabras."
      ]
    },
    {
      "cell_type": "code",
      "execution_count": 7,
      "metadata": {
        "id": "qyRpmIy4FED_"
      },
      "outputs": [],
      "source": [
        "# Función 1: Especializada en limpiar texto\n",
        "def limpiar_texto(texto):\n",
        "    \"\"\"Limpia un texto removiendo caracteres de puntuación comunes.\"\"\"\n",
        "    caracteres_especiales = ['.', ',', '!', '?', ';', ':']\n",
        "    texto_limpio = texto\n",
        "    for char in caracteres_especiales:\n",
        "        texto_limpio = texto_limpio.replace(char, '')\n",
        "    return texto_limpio.lower() # Devuelve el texto limpio y en minúsculas"
      ]
    },
    {
      "cell_type": "code",
      "execution_count": 8,
      "metadata": {
        "id": "Gq9OBViXFEBF"
      },
      "outputs": [],
      "source": [
        "# Función 2: Especializada en contar palabras\n",
        "def contar_palabras(texto):\n",
        "    \"\"\"Usa limpiar_texto() para procesar el texto y luego cuenta las palabras.\"\"\"\n",
        "    texto_procesado = limpiar_texto(texto) # ¡Reutilizamos nuestra primera función!\n",
        "    palabras = texto_procesado.split()\n",
        "    return len(palabras)"
      ]
    },
    {
      "cell_type": "code",
      "execution_count": 9,
      "metadata": {
        "id": "dWe0-2XFFD-J"
      },
      "outputs": [
        {
          "name": "stdout",
          "output_type": "stream",
          "text": [
            "El texto original era: '¡Hola, mundo! ¿Listo/a para aprender sobre Procesamiento del Lenguaje Natural?'\n",
            "Después de limpiarlo y contarlo, tiene 10 palabras.\n"
          ]
        }
      ],
      "source": [
        "# --- Uso de las funciones ---\n",
        "mi_texto = \"¡Hola, mundo! ¿Listo/a para aprender sobre Procesamiento del Lenguaje Natural?\"\n",
        "cantidad = contar_palabras(mi_texto)\n",
        "\n",
        "print(f\"El texto original era: '{mi_texto}'\")\n",
        "print(f\"Después de limpiarlo y contarlo, tiene {cantidad} palabras.\")"
      ]
    },
    {
      "cell_type": "markdown",
      "metadata": {
        "id": "ZKuKy45kGOnq"
      },
      "source": [
        "## 3. Programación Orientada a Objetos (POO): Un Código más Inteligente\n",
        "\n",
        "La POO es un paradigma para organizar el código. La idea es simple: en lugar de tener datos y funciones por separado, los agrupamos en \"objetos\" que tienen tanto los datos (atributos) como las funciones que operan sobre esos datos (métodos).\n",
        "\n",
        "* **Clase**: Es el \"plano\" o la \"receta\". Define cómo serán los objetos.\n",
        "* **Objeto (o instancia)**: Es la \"casa\" construida a partir del plano. Es una entidad real con la que interactuamos.\n",
        "* **`__init__(self, ...)`**: El \"constructor\". Es un método especial que se ejecuta al crear un nuevo objeto para inicializar sus atributos.\n",
        "* **`self`**: Se refiere al objeto mismo. Así es como el objeto accede a sus propios datos y métodos.\n",
        "\n",
        "Vamos a crear una clase `ProcesadorTexto` que encapsule un texto y todas las operaciones que queremos hacer con él."
      ]
    },
    {
      "cell_type": "code",
      "execution_count": 10,
      "metadata": {
        "id": "LacDK8uwGffa"
      },
      "outputs": [],
      "source": [
        "# Definiendo el \"plano\" para nuestros procesadores de texto\n",
        "class ProcesadorTexto:\n",
        "    # El constructor: se ejecuta cuando creamos un objeto con ProcesadorTexto(\"...\")\n",
        "    def __init__(self, texto):\n",
        "        print(f\"✨ Creando un nuevo procesador para el texto: '{texto[:30]}...'\")\n",
        "        self.texto_original = texto\n",
        "        self.texto_limpio = self.texto_original.lower().strip('.,!?')\n",
        "        self.palabras = self.texto_limpio.split()\n",
        "\n",
        "    # Un método para contar palabras\n",
        "    def contar_palabras(self):\n",
        "        return len(self.palabras)\n",
        "\n",
        "    # Un método para contar palabras únicas (sin repeticiones)\n",
        "    def contar_palabras_unicas(self):\n",
        "        return len(set(self.palabras)) # 'set' elimina duplicados automáticamente\n",
        "\n",
        "    # Un método para calcular la frecuencia de cada palabra\n",
        "    def calcular_frecuencia(self):\n",
        "        frecuencia = {}\n",
        "        for palabra in self.palabras:\n",
        "            frecuencia[palabra] = frecuencia.get(palabra, 0) + 1\n",
        "        return frecuencia"
      ]
    },
    {
      "cell_type": "code",
      "execution_count": null,
      "metadata": {
        "id": "gMPsbvS2G4Tr"
      },
      "outputs": [],
      "source": [
        "# --- Uso de la clase ---\n",
        "# Creamos un objeto (una instancia) de nuestra clase\n",
        "procesador = ProcesadorTexto(\"Python para NLP es genial porque Python es versátil.\")\n",
        "\n",
        "# Ahora podemos usar sus métodos\n",
        "print(f\"Total de palabras: {procesador.contar_palabras()}\")\n",
        "print(f\"Palabras únicas: {procesador.contar_palabras_unicas()}\")\n",
        "print(f\"Frecuencia de palabras: {procesador.calcular_frecuencia()}\")"
      ]
    },
    {
      "cell_type": "markdown",
      "metadata": {
        "id": "GWdGzt9OHKR_"
      },
      "source": [
        "## 4. Ejercicio Práctico 1: Expandiendo Nuestra Clase\n",
        "\n",
        "¡Tu turno! Vamos a agregarle más \"poder\" a nuestra clase `ProcesadorTexto`.\n",
        "\n",
        "**Tu objetivo:** Añadí un nuevo método a la clase llamado `calcular_longitud_media()`. Este método debe calcular y devolver la longitud promedio de las palabras en el texto.\n",
        "\n",
        "**Pista:** Deberás sumar la longitud de todas las palabras y dividirla por el número total de palabras."
      ]
    },
    {
      "cell_type": "code",
      "execution_count": 11,
      "metadata": {
        "id": "TkcXNML8HapM"
      },
      "outputs": [
        {
          "name": "stdout",
          "output_type": "stream",
          "text": [
            "La longitud media de las palabras es: 5.33\n"
          ]
        }
      ],
      "source": [
        "# Pega la clase ProcesadorTexto acá y añádile tu nuevo método.\n",
        "\n",
        "class ProcesadorTexto:\n",
        "    def __init__(self, texto):\n",
        "        self.texto_original = texto\n",
        "        self.texto_limpio = self.texto_original.lower().strip('.,!?')\n",
        "        self.palabras = self.texto_limpio.split()\n",
        "\n",
        "    def contar_palabras(self):\n",
        "        return len(self.palabras)\n",
        "\n",
        "    def contar_palabras_unicas(self):\n",
        "        return len(set(self.palabras))\n",
        "\n",
        "    def calcular_frecuencia(self):\n",
        "        frecuencia = {}\n",
        "        for palabra in self.palabras:\n",
        "            frecuencia[palabra] = frecuencia.get(palabra, 0) + 1\n",
        "        return frecuencia\n",
        "\n",
        "    # --- TU CÓDIGO ACÁ ---\n",
        "    # Añadí el método calcular_longitud_media(self)\n",
        "    def calcular_longitud_media(self):\n",
        "        if not self.palabras: # Evitar división por cero si el texto está vacío\n",
        "            return 0\n",
        "        total_letras = sum(len(palabra) for palabra in self.palabras)\n",
        "        return total_letras / len(self.palabras)\n",
        "\n",
        "\n",
        "# --- Probá tu nuevo método ---\n",
        "procesador_prueba = ProcesadorTexto(\"Los modelos de lenguaje son complejos.\")\n",
        "long_media = procesador_prueba.calcular_longitud_media()\n",
        "print(f\"La longitud media de las palabras es: {long_media:.2f}\") # :.2f formatea a 2 decimales"
      ]
    },
    {
      "cell_type": "markdown",
      "metadata": {
        "id": "sGYxOU_HHm6H"
      },
      "source": [
        "## 5. Ejercicio Integrador Final: Tu Propia App de Análisis de Texto\n",
        "\n",
        "Llegó el momento de combinar todo lo que aprendimos. En este desafío final, no solo usarás Python para analizar texto, sino que también construirás una **aplicación web interactiva** con Gradio para mostrar tus resultados al mundo.\n",
        "\n",
        "**El Objetivo:** Crear una herramienta simple donde un usuario pueda pegar un texto y obtener un análisis básico de PLN al instante.\n",
        "\n",
        "No te daremos la solución completa. En su lugar, te daremos un mapa, las piezas clave y muchas pistas. Este es tu proyecto\n",
        "\n",
        "---\n",
        "\n",
        "### 🧠 Paso 1: El \"Cerebro\" de la Aplicación (La Función de Análisis)\n",
        "\n",
        "Primero, necesitamos una función principal que orqueste todo el trabajo. Esta función recibirá el texto del usuario, usará nuestra clase `ProcesadorTexto` para hacer los cálculos y preparará los resultados para ser mostrados.\n",
        "\n",
        "**Instrucciones:**\n",
        "1.  Completa el código de la función `analizar_texto(texto)` que te proporcionamos abajo.\n",
        "2.  Dentro de la función, debes **crear un objeto** de la clase `ProcesadorTexto`.\n",
        "3.  Usa los **métodos** de ese objeto (`.contar_palabras()`, `.contar_palabras_unicas()`, etc.) para obtener las métricas.\n",
        "4.  Formatea un `resumen` en un string amigable para el usuario.\n",
        "5.  La función debe **devolver dos cosas**: el string del resumen y el diccionario de frecuencias."
      ]
    },
    {
      "cell_type": "markdown",
      "metadata": {
        "id": "ffDVAaeTKmd1"
      },
      "source": [
        "### 🤖 Tu Compañero de Programación: Usa la IA para Aprender\n",
        "\n",
        "Como desarrollador/a del presente, tenes acceso a herramientas increíbles. **Te animamos a que uses asistentes de IA como ChatGPT, Gemini, Copilot, etc., como si fueran tu tutor personal.**\n",
        "\n",
        "No se trata de pedirle la solución completa, sino de hacerle preguntas inteligentes para resolver los \"TODO\" del código. Algunos ejemplos de prompts que podrías usar:\n",
        "\n",
        "* *\"Tengo una clase en Python llamada `ProcesadorTexto` que se inicializa con un texto ¿Cómo creo un objeto o instancia de esa clase?\"*\n",
        "* *\"En Python ¿cómo puedo devolver dos variables (un string y un diccionario) desde una función?\"*\n",
        "* *\"Tengo un diccionario de frecuencias de palabras en Python ¿Cómo encuentro la clave (la palabra) que tiene el valor más alto (la mayor frecuencia)?\"*\n",
        "* *\"Explícame qué hace el componente `gr.JSON` en la librería Gradio.\"*\n",
        "* *\"Mi código de Gradio no funciona. ¿Podes ayudarme a depurarlo? Acá está mi función y mi `gr.Interface`...\"*\n",
        "\n",
        "¡Experimenta! Preguntar es la mejor forma de aprender.\n",
        "\n",
        "---"
      ]
    },
    {
      "cell_type": "code",
      "execution_count": 16,
      "metadata": {
        "id": "kP1BUkt8LdRQ"
      },
      "outputs": [
        {
          "name": "stderr",
          "output_type": "stream",
          "text": [
            "ERROR: Could not install packages due to an OSError: [WinError 2] El sistema no puede encontrar el archivo especificado\n",
            "\n"
          ]
        },
        {
          "name": "stdout",
          "output_type": "stream",
          "text": [
            "Collecting gradio\n",
            "  Using cached gradio-5.43.1-py3-none-any.whl.metadata (16 kB)\n",
            "Collecting aiofiles<25.0,>=22.0 (from gradio)\n",
            "  Using cached aiofiles-24.1.0-py3-none-any.whl.metadata (10 kB)\n",
            "Requirement already satisfied: anyio<5.0,>=3.0 in c:\\users\\sa\\anaconda3\\lib\\site-packages (from gradio) (4.2.0)\n",
            "Collecting brotli>=1.1.0 (from gradio)\n",
            "  Using cached Brotli-1.1.0-cp312-cp312-win_amd64.whl.metadata (5.6 kB)\n",
            "Collecting fastapi<1.0,>=0.115.2 (from gradio)\n",
            "  Using cached fastapi-0.116.1-py3-none-any.whl.metadata (28 kB)\n",
            "Collecting ffmpy (from gradio)\n",
            "  Using cached ffmpy-0.6.1-py3-none-any.whl.metadata (2.9 kB)\n",
            "Collecting gradio-client==1.12.1 (from gradio)\n",
            "  Using cached gradio_client-1.12.1-py3-none-any.whl.metadata (7.1 kB)\n",
            "Collecting groovy~=0.1 (from gradio)\n",
            "  Using cached groovy-0.1.2-py3-none-any.whl.metadata (6.1 kB)\n",
            "Requirement already satisfied: httpx<1.0,>=0.24.1 in c:\\users\\sa\\anaconda3\\lib\\site-packages (from gradio) (0.27.0)\n",
            "Collecting huggingface-hub<1.0,>=0.33.5 (from gradio)\n",
            "  Using cached huggingface_hub-0.34.4-py3-none-any.whl.metadata (14 kB)\n",
            "Requirement already satisfied: jinja2<4.0 in c:\\users\\sa\\anaconda3\\lib\\site-packages (from gradio) (3.1.4)\n",
            "Requirement already satisfied: markupsafe<4.0,>=2.0 in c:\\users\\sa\\anaconda3\\lib\\site-packages (from gradio) (2.1.3)\n",
            "Requirement already satisfied: numpy<3.0,>=1.0 in c:\\users\\sa\\anaconda3\\lib\\site-packages (from gradio) (1.26.4)\n",
            "Collecting orjson~=3.0 (from gradio)\n",
            "  Using cached orjson-3.11.2-cp312-cp312-win_amd64.whl.metadata (1.2 kB)\n",
            "Requirement already satisfied: packaging in c:\\users\\sa\\anaconda3\\lib\\site-packages (from gradio) (24.1)\n",
            "Requirement already satisfied: pandas<3.0,>=1.0 in c:\\users\\sa\\anaconda3\\lib\\site-packages (from gradio) (2.2.2)\n",
            "Requirement already satisfied: pillow<12.0,>=8.0 in c:\\users\\sa\\anaconda3\\lib\\site-packages (from gradio) (10.4.0)\n",
            "Requirement already satisfied: pydantic<2.12,>=2.0 in c:\\users\\sa\\anaconda3\\lib\\site-packages (from gradio) (2.8.2)\n",
            "Collecting pydub (from gradio)\n",
            "  Using cached pydub-0.25.1-py2.py3-none-any.whl.metadata (1.4 kB)\n",
            "Collecting python-multipart>=0.0.18 (from gradio)\n",
            "  Using cached python_multipart-0.0.20-py3-none-any.whl.metadata (1.8 kB)\n",
            "Requirement already satisfied: pyyaml<7.0,>=5.0 in c:\\users\\sa\\anaconda3\\lib\\site-packages (from gradio) (6.0.1)\n",
            "Collecting ruff>=0.9.3 (from gradio)\n",
            "  Using cached ruff-0.12.10-py3-none-win_amd64.whl.metadata (26 kB)\n",
            "Collecting safehttpx<0.2.0,>=0.1.6 (from gradio)\n",
            "  Using cached safehttpx-0.1.6-py3-none-any.whl.metadata (4.2 kB)\n",
            "Collecting semantic-version~=2.0 (from gradio)\n",
            "  Using cached semantic_version-2.10.0-py2.py3-none-any.whl.metadata (9.7 kB)\n",
            "Collecting starlette<1.0,>=0.40.0 (from gradio)\n",
            "  Using cached starlette-0.47.2-py3-none-any.whl.metadata (6.2 kB)\n",
            "Collecting tomlkit<0.14.0,>=0.12.0 (from gradio)\n",
            "  Using cached tomlkit-0.13.3-py3-none-any.whl.metadata (2.8 kB)\n",
            "Collecting typer<1.0,>=0.12 (from gradio)\n",
            "  Using cached typer-0.16.1-py3-none-any.whl.metadata (15 kB)\n",
            "Requirement already satisfied: typing-extensions~=4.0 in c:\\users\\sa\\anaconda3\\lib\\site-packages (from gradio) (4.11.0)\n",
            "Collecting uvicorn>=0.14.0 (from gradio)\n",
            "  Using cached uvicorn-0.35.0-py3-none-any.whl.metadata (6.5 kB)\n",
            "Requirement already satisfied: fsspec in c:\\users\\sa\\anaconda3\\lib\\site-packages (from gradio-client==1.12.1->gradio) (2024.6.1)\n",
            "Collecting websockets<16.0,>=10.0 (from gradio-client==1.12.1->gradio)\n",
            "  Using cached websockets-15.0.1-cp312-cp312-win_amd64.whl.metadata (7.0 kB)\n",
            "Requirement already satisfied: idna>=2.8 in c:\\users\\sa\\anaconda3\\lib\\site-packages (from anyio<5.0,>=3.0->gradio) (3.7)\n",
            "Requirement already satisfied: sniffio>=1.1 in c:\\users\\sa\\anaconda3\\lib\\site-packages (from anyio<5.0,>=3.0->gradio) (1.3.0)\n",
            "Requirement already satisfied: certifi in c:\\users\\sa\\anaconda3\\lib\\site-packages (from httpx<1.0,>=0.24.1->gradio) (2025.1.31)\n",
            "Requirement already satisfied: httpcore==1.* in c:\\users\\sa\\anaconda3\\lib\\site-packages (from httpx<1.0,>=0.24.1->gradio) (1.0.2)\n",
            "Requirement already satisfied: h11<0.15,>=0.13 in c:\\users\\sa\\anaconda3\\lib\\site-packages (from httpcore==1.*->httpx<1.0,>=0.24.1->gradio) (0.14.0)\n",
            "Requirement already satisfied: filelock in c:\\users\\sa\\anaconda3\\lib\\site-packages (from huggingface-hub<1.0,>=0.33.5->gradio) (3.13.1)\n",
            "Requirement already satisfied: requests in c:\\users\\sa\\anaconda3\\lib\\site-packages (from huggingface-hub<1.0,>=0.33.5->gradio) (2.32.3)\n",
            "Requirement already satisfied: tqdm>=4.42.1 in c:\\users\\sa\\anaconda3\\lib\\site-packages (from huggingface-hub<1.0,>=0.33.5->gradio) (4.66.5)\n",
            "Requirement already satisfied: python-dateutil>=2.8.2 in c:\\users\\sa\\anaconda3\\lib\\site-packages (from pandas<3.0,>=1.0->gradio) (2.9.0.post0)\n",
            "Requirement already satisfied: pytz>=2020.1 in c:\\users\\sa\\anaconda3\\lib\\site-packages (from pandas<3.0,>=1.0->gradio) (2024.1)\n",
            "Requirement already satisfied: tzdata>=2022.7 in c:\\users\\sa\\anaconda3\\lib\\site-packages (from pandas<3.0,>=1.0->gradio) (2023.3)\n",
            "Requirement already satisfied: annotated-types>=0.4.0 in c:\\users\\sa\\anaconda3\\lib\\site-packages (from pydantic<2.12,>=2.0->gradio) (0.6.0)\n",
            "Requirement already satisfied: pydantic-core==2.20.1 in c:\\users\\sa\\anaconda3\\lib\\site-packages (from pydantic<2.12,>=2.0->gradio) (2.20.1)\n",
            "Requirement already satisfied: click>=8.0.0 in c:\\users\\sa\\anaconda3\\lib\\site-packages (from typer<1.0,>=0.12->gradio) (8.1.7)\n",
            "Requirement already satisfied: shellingham>=1.3.0 in c:\\users\\sa\\anaconda3\\lib\\site-packages (from typer<1.0,>=0.12->gradio) (1.5.0)\n",
            "Requirement already satisfied: rich>=10.11.0 in c:\\users\\sa\\anaconda3\\lib\\site-packages (from typer<1.0,>=0.12->gradio) (13.7.1)\n",
            "Requirement already satisfied: colorama in c:\\users\\sa\\anaconda3\\lib\\site-packages (from click>=8.0.0->typer<1.0,>=0.12->gradio) (0.4.6)\n",
            "Requirement already satisfied: six>=1.5 in c:\\users\\sa\\anaconda3\\lib\\site-packages (from python-dateutil>=2.8.2->pandas<3.0,>=1.0->gradio) (1.16.0)\n",
            "Requirement already satisfied: markdown-it-py>=2.2.0 in c:\\users\\sa\\anaconda3\\lib\\site-packages (from rich>=10.11.0->typer<1.0,>=0.12->gradio) (2.2.0)\n",
            "Requirement already satisfied: pygments<3.0.0,>=2.13.0 in c:\\users\\sa\\anaconda3\\lib\\site-packages (from rich>=10.11.0->typer<1.0,>=0.12->gradio) (2.15.1)\n",
            "Requirement already satisfied: charset-normalizer<4,>=2 in c:\\users\\sa\\anaconda3\\lib\\site-packages (from requests->huggingface-hub<1.0,>=0.33.5->gradio) (3.3.2)\n",
            "Requirement already satisfied: urllib3<3,>=1.21.1 in c:\\users\\sa\\anaconda3\\lib\\site-packages (from requests->huggingface-hub<1.0,>=0.33.5->gradio) (2.2.3)\n",
            "Requirement already satisfied: mdurl~=0.1 in c:\\users\\sa\\anaconda3\\lib\\site-packages (from markdown-it-py>=2.2.0->rich>=10.11.0->typer<1.0,>=0.12->gradio) (0.1.0)\n",
            "Using cached gradio-5.43.1-py3-none-any.whl (59.6 MB)\n",
            "Using cached gradio_client-1.12.1-py3-none-any.whl (324 kB)\n",
            "Using cached aiofiles-24.1.0-py3-none-any.whl (15 kB)\n",
            "Using cached Brotli-1.1.0-cp312-cp312-win_amd64.whl (357 kB)\n",
            "Using cached fastapi-0.116.1-py3-none-any.whl (95 kB)\n",
            "Using cached groovy-0.1.2-py3-none-any.whl (14 kB)\n",
            "Using cached huggingface_hub-0.34.4-py3-none-any.whl (561 kB)\n",
            "Using cached orjson-3.11.2-cp312-cp312-win_amd64.whl (119 kB)\n",
            "Using cached python_multipart-0.0.20-py3-none-any.whl (24 kB)\n",
            "Using cached ruff-0.12.10-py3-none-win_amd64.whl (13.0 MB)\n",
            "Using cached safehttpx-0.1.6-py3-none-any.whl (8.7 kB)\n",
            "Using cached semantic_version-2.10.0-py2.py3-none-any.whl (15 kB)\n",
            "Using cached starlette-0.47.2-py3-none-any.whl (72 kB)\n",
            "Using cached tomlkit-0.13.3-py3-none-any.whl (38 kB)\n",
            "Using cached typer-0.16.1-py3-none-any.whl (46 kB)\n",
            "Using cached uvicorn-0.35.0-py3-none-any.whl (66 kB)\n",
            "Using cached ffmpy-0.6.1-py3-none-any.whl (5.5 kB)\n",
            "Using cached pydub-0.25.1-py2.py3-none-any.whl (32 kB)\n",
            "Using cached websockets-15.0.1-cp312-cp312-win_amd64.whl (176 kB)\n",
            "Installing collected packages: pydub, brotli, websockets, tomlkit, semantic-version, ruff, python-multipart, orjson, groovy, ffmpy, aiofiles, uvicorn, starlette, huggingface-hub, typer, safehttpx, gradio-client, fastapi, gradio\n",
            "  Attempting uninstall: brotli\n",
            "    Found existing installation: Brotli 1.0.9\n",
            "    Uninstalling Brotli-1.0.9:\n",
            "      Successfully uninstalled Brotli-1.0.9\n",
            "  Attempting uninstall: tomlkit\n",
            "    Found existing installation: tomlkit 0.11.1\n",
            "    Uninstalling tomlkit-0.11.1:\n",
            "      Successfully uninstalled tomlkit-0.11.1\n",
            "  Attempting uninstall: typer\n",
            "    Found existing installation: typer 0.9.0\n",
            "    Uninstalling typer-0.9.0:\n",
            "      Successfully uninstalled typer-0.9.0\n",
            "Successfully installed aiofiles-24.1.0 brotli-1.1.0 fastapi-0.116.1 ffmpy-0.6.1 gradio-5.43.1 gradio-client-1.12.1 groovy-0.1.2 huggingface-hub-0.34.4 orjson-3.11.2 pydub-0.25.1 python-multipart-0.0.20 ruff-0.12.10 safehttpx-0.1.6 semantic-version-2.10.0 starlette-0.47.2 tomlkit-0.13.3 typer-0.16.1 uvicorn-0.35.0 websockets-15.0.1\n",
            "Collecting gradio\n",
            "  Using cached gradio-5.43.1-py3-none-any.whl.metadata (16 kB)\n",
            "Collecting aiofiles<25.0,>=22.0 (from gradio)\n",
            "  Using cached aiofiles-24.1.0-py3-none-any.whl.metadata (10 kB)\n",
            "Requirement already satisfied: anyio<5.0,>=3.0 in c:\\users\\sa\\anaconda3\\lib\\site-packages (from gradio) (4.2.0)\n",
            "Collecting brotli>=1.1.0 (from gradio)\n",
            "  Using cached Brotli-1.1.0-cp312-cp312-win_amd64.whl.metadata (5.6 kB)\n",
            "Collecting fastapi<1.0,>=0.115.2 (from gradio)\n",
            "  Using cached fastapi-0.116.1-py3-none-any.whl.metadata (28 kB)\n",
            "Collecting ffmpy (from gradio)\n",
            "  Using cached ffmpy-0.6.1-py3-none-any.whl.metadata (2.9 kB)\n",
            "Collecting gradio-client==1.12.1 (from gradio)\n",
            "  Using cached gradio_client-1.12.1-py3-none-any.whl.metadata (7.1 kB)\n",
            "Collecting groovy~=0.1 (from gradio)\n",
            "  Using cached groovy-0.1.2-py3-none-any.whl.metadata (6.1 kB)\n",
            "Requirement already satisfied: httpx<1.0,>=0.24.1 in c:\\users\\sa\\anaconda3\\lib\\site-packages (from gradio) (0.27.0)\n",
            "Collecting huggingface-hub<1.0,>=0.33.5 (from gradio)\n",
            "  Using cached huggingface_hub-0.34.4-py3-none-any.whl.metadata (14 kB)\n",
            "Requirement already satisfied: jinja2<4.0 in c:\\users\\sa\\anaconda3\\lib\\site-packages (from gradio) (3.1.4)\n",
            "Requirement already satisfied: markupsafe<4.0,>=2.0 in c:\\users\\sa\\anaconda3\\lib\\site-packages (from gradio) (2.1.3)\n",
            "Requirement already satisfied: numpy<3.0,>=1.0 in c:\\users\\sa\\anaconda3\\lib\\site-packages (from gradio) (1.26.4)\n",
            "Collecting orjson~=3.0 (from gradio)\n",
            "  Using cached orjson-3.11.2-cp312-cp312-win_amd64.whl.metadata (1.2 kB)\n",
            "Requirement already satisfied: packaging in c:\\users\\sa\\anaconda3\\lib\\site-packages (from gradio) (24.1)\n",
            "Requirement already satisfied: pandas<3.0,>=1.0 in c:\\users\\sa\\anaconda3\\lib\\site-packages (from gradio) (2.2.2)\n",
            "Requirement already satisfied: pillow<12.0,>=8.0 in c:\\users\\sa\\anaconda3\\lib\\site-packages (from gradio) (10.4.0)\n",
            "Requirement already satisfied: pydantic<2.12,>=2.0 in c:\\users\\sa\\anaconda3\\lib\\site-packages (from gradio) (2.8.2)\n",
            "Requirement already satisfied: pydub in c:\\users\\sa\\anaconda3\\lib\\site-packages (from gradio) (0.25.1)\n",
            "Collecting python-multipart>=0.0.18 (from gradio)\n",
            "  Using cached python_multipart-0.0.20-py3-none-any.whl.metadata (1.8 kB)\n",
            "Requirement already satisfied: pyyaml<7.0,>=5.0 in c:\\users\\sa\\anaconda3\\lib\\site-packages (from gradio) (6.0.1)\n",
            "Collecting ruff>=0.9.3 (from gradio)\n",
            "  Using cached ruff-0.12.10-py3-none-win_amd64.whl.metadata (26 kB)\n",
            "Collecting safehttpx<0.2.0,>=0.1.6 (from gradio)\n",
            "  Using cached safehttpx-0.1.6-py3-none-any.whl.metadata (4.2 kB)\n",
            "Collecting semantic-version~=2.0 (from gradio)\n",
            "  Using cached semantic_version-2.10.0-py2.py3-none-any.whl.metadata (9.7 kB)\n",
            "Collecting starlette<1.0,>=0.40.0 (from gradio)\n",
            "  Using cached starlette-0.47.2-py3-none-any.whl.metadata (6.2 kB)\n",
            "Collecting tomlkit<0.14.0,>=0.12.0 (from gradio)\n",
            "  Using cached tomlkit-0.13.3-py3-none-any.whl.metadata (2.8 kB)\n",
            "Collecting typer<1.0,>=0.12 (from gradio)\n",
            "  Using cached typer-0.16.1-py3-none-any.whl.metadata (15 kB)\n",
            "Requirement already satisfied: typing-extensions~=4.0 in c:\\users\\sa\\anaconda3\\lib\\site-packages (from gradio) (4.11.0)\n",
            "Collecting uvicorn>=0.14.0 (from gradio)\n",
            "  Using cached uvicorn-0.35.0-py3-none-any.whl.metadata (6.5 kB)\n",
            "Requirement already satisfied: fsspec in c:\\users\\sa\\anaconda3\\lib\\site-packages (from gradio-client==1.12.1->gradio) (2024.6.1)\n",
            "Collecting websockets<16.0,>=10.0 (from gradio-client==1.12.1->gradio)\n",
            "  Using cached websockets-15.0.1-cp312-cp312-win_amd64.whl.metadata (7.0 kB)\n",
            "Requirement already satisfied: idna>=2.8 in c:\\users\\sa\\anaconda3\\lib\\site-packages (from anyio<5.0,>=3.0->gradio) (3.7)\n",
            "Requirement already satisfied: sniffio>=1.1 in c:\\users\\sa\\anaconda3\\lib\\site-packages (from anyio<5.0,>=3.0->gradio) (1.3.0)\n",
            "Requirement already satisfied: certifi in c:\\users\\sa\\anaconda3\\lib\\site-packages (from httpx<1.0,>=0.24.1->gradio) (2025.1.31)\n",
            "Requirement already satisfied: httpcore==1.* in c:\\users\\sa\\anaconda3\\lib\\site-packages (from httpx<1.0,>=0.24.1->gradio) (1.0.2)\n",
            "Requirement already satisfied: h11<0.15,>=0.13 in c:\\users\\sa\\anaconda3\\lib\\site-packages (from httpcore==1.*->httpx<1.0,>=0.24.1->gradio) (0.14.0)\n",
            "Requirement already satisfied: filelock in c:\\users\\sa\\anaconda3\\lib\\site-packages (from huggingface-hub<1.0,>=0.33.5->gradio) (3.13.1)\n",
            "Requirement already satisfied: requests in c:\\users\\sa\\anaconda3\\lib\\site-packages (from huggingface-hub<1.0,>=0.33.5->gradio) (2.32.3)\n",
            "Requirement already satisfied: tqdm>=4.42.1 in c:\\users\\sa\\anaconda3\\lib\\site-packages (from huggingface-hub<1.0,>=0.33.5->gradio) (4.66.5)\n",
            "Requirement already satisfied: python-dateutil>=2.8.2 in c:\\users\\sa\\anaconda3\\lib\\site-packages (from pandas<3.0,>=1.0->gradio) (2.9.0.post0)\n",
            "Requirement already satisfied: pytz>=2020.1 in c:\\users\\sa\\anaconda3\\lib\\site-packages (from pandas<3.0,>=1.0->gradio) (2024.1)\n",
            "Requirement already satisfied: tzdata>=2022.7 in c:\\users\\sa\\anaconda3\\lib\\site-packages (from pandas<3.0,>=1.0->gradio) (2023.3)\n",
            "Requirement already satisfied: annotated-types>=0.4.0 in c:\\users\\sa\\anaconda3\\lib\\site-packages (from pydantic<2.12,>=2.0->gradio) (0.6.0)\n",
            "Requirement already satisfied: pydantic-core==2.20.1 in c:\\users\\sa\\anaconda3\\lib\\site-packages (from pydantic<2.12,>=2.0->gradio) (2.20.1)\n",
            "Requirement already satisfied: click>=8.0.0 in c:\\users\\sa\\anaconda3\\lib\\site-packages (from typer<1.0,>=0.12->gradio) (8.1.7)\n",
            "Requirement already satisfied: shellingham>=1.3.0 in c:\\users\\sa\\anaconda3\\lib\\site-packages (from typer<1.0,>=0.12->gradio) (1.5.0)\n",
            "Requirement already satisfied: rich>=10.11.0 in c:\\users\\sa\\anaconda3\\lib\\site-packages (from typer<1.0,>=0.12->gradio) (13.7.1)\n",
            "Requirement already satisfied: colorama in c:\\users\\sa\\anaconda3\\lib\\site-packages (from click>=8.0.0->typer<1.0,>=0.12->gradio) (0.4.6)\n",
            "Requirement already satisfied: six>=1.5 in c:\\users\\sa\\anaconda3\\lib\\site-packages (from python-dateutil>=2.8.2->pandas<3.0,>=1.0->gradio) (1.16.0)\n",
            "Requirement already satisfied: markdown-it-py>=2.2.0 in c:\\users\\sa\\anaconda3\\lib\\site-packages (from rich>=10.11.0->typer<1.0,>=0.12->gradio) (2.2.0)\n",
            "Requirement already satisfied: pygments<3.0.0,>=2.13.0 in c:\\users\\sa\\anaconda3\\lib\\site-packages (from rich>=10.11.0->typer<1.0,>=0.12->gradio) (2.15.1)\n",
            "Requirement already satisfied: charset-normalizer<4,>=2 in c:\\users\\sa\\anaconda3\\lib\\site-packages (from requests->huggingface-hub<1.0,>=0.33.5->gradio) (3.3.2)\n",
            "Requirement already satisfied: urllib3<3,>=1.21.1 in c:\\users\\sa\\anaconda3\\lib\\site-packages (from requests->huggingface-hub<1.0,>=0.33.5->gradio) (2.2.3)\n",
            "Requirement already satisfied: mdurl~=0.1 in c:\\users\\sa\\anaconda3\\lib\\site-packages (from markdown-it-py>=2.2.0->rich>=10.11.0->typer<1.0,>=0.12->gradio) (0.1.0)\n",
            "Using cached gradio-5.43.1-py3-none-any.whl (59.6 MB)\n",
            "Using cached gradio_client-1.12.1-py3-none-any.whl (324 kB)\n",
            "Using cached aiofiles-24.1.0-py3-none-any.whl (15 kB)\n",
            "Using cached Brotli-1.1.0-cp312-cp312-win_amd64.whl (357 kB)\n",
            "Using cached fastapi-0.116.1-py3-none-any.whl (95 kB)\n",
            "Using cached groovy-0.1.2-py3-none-any.whl (14 kB)\n",
            "Using cached huggingface_hub-0.34.4-py3-none-any.whl (561 kB)\n",
            "Using cached orjson-3.11.2-cp312-cp312-win_amd64.whl (119 kB)\n",
            "Using cached python_multipart-0.0.20-py3-none-any.whl (24 kB)\n",
            "Using cached ruff-0.12.10-py3-none-win_amd64.whl (13.0 MB)\n",
            "Using cached safehttpx-0.1.6-py3-none-any.whl (8.7 kB)\n",
            "Using cached semantic_version-2.10.0-py2.py3-none-any.whl (15 kB)\n",
            "Using cached starlette-0.47.2-py3-none-any.whl (72 kB)\n",
            "Using cached tomlkit-0.13.3-py3-none-any.whl (38 kB)\n",
            "Using cached typer-0.16.1-py3-none-any.whl (46 kB)\n",
            "Using cached uvicorn-0.35.0-py3-none-any.whl (66 kB)\n",
            "Using cached ffmpy-0.6.1-py3-none-any.whl (5.5 kB)\n",
            "Using cached websockets-15.0.1-cp312-cp312-win_amd64.whl (176 kB)\n",
            "Installing collected packages: brotli, websockets, tomlkit, semantic-version, ruff, python-multipart, orjson, groovy, ffmpy, aiofiles, uvicorn, starlette, huggingface-hub, typer, safehttpx, gradio-client, fastapi, gradio\n",
            "  Attempting uninstall: brotli\n",
            "    Found existing installation: Brotli 1.1.0\n",
            "    Uninstalling Brotli-1.1.0:\n",
            "      Successfully uninstalled Brotli-1.1.0\n",
            "  Attempting uninstall: tomlkit\n",
            "    Found existing installation: tomlkit 0.13.3\n",
            "    Uninstalling tomlkit-0.13.3:\n",
            "      Successfully uninstalled tomlkit-0.13.3\n",
            "  Attempting uninstall: typer\n",
            "    Found existing installation: typer 0.16.1\n",
            "    Uninstalling typer-0.16.1:\n",
            "      Successfully uninstalled typer-0.16.1\n",
            "Successfully installed aiofiles-24.1.0 brotli-1.1.0 fastapi-0.116.1 ffmpy-0.6.1 gradio-5.43.1 gradio-client-1.12.1 groovy-0.1.2 huggingface-hub-0.34.4 orjson-3.11.2 python-multipart-0.0.20 ruff-0.12.10 safehttpx-0.1.6 semantic-version-2.10.0 starlette-0.47.2 tomlkit-0.13.3 typer-0.16.1 uvicorn-0.35.0 websockets-15.0.1\n",
            "Note: you may need to restart the kernel to use updated packages.\n"
          ]
        },
        {
          "name": "stderr",
          "output_type": "stream",
          "text": [
            "WARNING: Ignoring invalid distribution ~omlkit (c:\\Users\\Sa\\anaconda3\\Lib\\site-packages)\n"
          ]
        }
      ],
      "source": [
        "# Asegúrate de que Gradio esté instalado\n",
        "%pip install gradio \n",
        "#import gradio as gr"
      ]
    },
    {
      "cell_type": "code",
      "execution_count": 17,
      "metadata": {},
      "outputs": [],
      "source": [
        "import gradio as gr"
      ]
    },
    {
      "cell_type": "code",
      "execution_count": 18,
      "metadata": {
        "id": "1nEudrfiLdJ_"
      },
      "outputs": [],
      "source": [
        "# --- Pieza Clave: La Clase que ya construimos ---\n",
        "# La necesitas para que tu función de análisis pueda usarla.\n",
        "class ProcesadorTexto:\n",
        "    def __init__(self, texto):\n",
        "        self.texto_original = texto\n",
        "        self.texto_limpio = self.texto_original.lower().strip('.,!?')\n",
        "        self.palabras = self.texto_limpio.split()\n",
        "    def contar_palabras(self):\n",
        "        return len(self.palabras)\n",
        "    def contar_palabras_unicas(self):\n",
        "        return len(set(self.palabras))\n",
        "    def calcular_frecuencia(self):\n",
        "        frecuencia = {}\n",
        "        for palabra in self.palabras:\n",
        "            frecuencia[palabra] = frecuencia.get(palabra, 0) + 1\n",
        "        return frecuencia"
      ]
    },
    {
      "cell_type": "code",
      "execution_count": null,
      "metadata": {
        "id": "RFlqTasHLdEQ"
      },
      "outputs": [],
      "source": [
        "# --- PASO 1: Completa la función \"Cerebro\" ---\n",
        "def analizar_texto(texto):\n",
        "    \"\"\"\n",
        "    Esta función es el núcleo de nuestra app.\n",
        "    Recibe un texto, lo procesa con nuestra clase y devuelve los resultados.\n",
        "    \"\"\"\n",
        "    # Condición de seguridad por si el usuario no escribe nada.\n",
        "    if not texto.strip():\n",
        "        return \"Por favor, ingresa algo de texto para analizar.\", {}\n",
        "\n",
        "    # TODO 1: Crea una instancia de la clase ProcesadorTexto\n",
        "    # Pista: procesador = ProcesadorTexto(texto_ingresado)\n",
        "    procesador = ProcesadorTexto(texto)\n",
        "    # TODO 2: Usa los métodos del objeto para obtener:\n",
        "    # - Total de palabras\n",
        "    # - Palabras únicas\n",
        "    # - Diccionario de frecuencias\n",
        "\n",
        "    total_palabras = procesador.contar_palabras()\n",
        "    unicas = procesador.contar_palabras_unicas()\n",
        "    frecuencias = procesador.calcular_frecuencia()\n",
        "\n",
        "    # TODO 3: (Opcional) Encuentra la palabra más frecuente\n",
        "    # Pista: puedes usar max(diccionario, key=diccionario.get)\n",
        "    if frecuencias:\n",
        "        mas_frecuente = max(frecuencias, key=frecuencias.get)\n",
        "    else:\n",
        "        mas_frecuente = 'N/A'\n",
        "    # TODO 4: Crea un string de resumen con formato\n",
        "    # Ejemplo de formato esperado:\n",
        "    \"\"\"\n",
        "    --- Resumen del Análisis ---\n",
        "    Total de Palabras: 25\n",
        "    Palabras Únicas: 20\n",
        "    Palabra Más Frecuente: 'python' (3 repeticiones)\n",
        "    \"\"\"\n",
        "    resumen = f\"\"\"\n",
        "                --- Resumen del Análisis ---\n",
        "                Total de palabras: {total_palabras}\n",
        "                Palabras Únicas: {unicas}\n",
        "                Palabra Más Frecuente: '{mas_frecuente}' ({frecuencias[mas_frecuente]} repeticiones)\n",
        "              \"\"\"\n",
        "    # TODO 5: Devuelve el resumen y el diccionario de frecuencias\n",
        "    # Pista: return resumen, frecuencia_diccionario\n",
        "    return resumen, frecuencias"
      ]
    },
    {
      "cell_type": "code",
      "execution_count": 23,
      "metadata": {},
      "outputs": [
        {
          "name": "stdout",
          "output_type": "stream",
          "text": [
            "\n",
            "                --- Resumen del Análisis ---\n",
            "                Total de palabras: 22\n",
            "                Palabras Únicas: 20\n",
            "                Palabra Más Frecuente: 'que' (2 repeticiones)\n",
            "              \n",
            "{'ahora': 1, 'que': 2, 'tenemos': 1, 'el': 1, '\"cerebro\",': 1, 'vamos': 1, 'a': 2, 'conectarlo': 1, 'una': 1, 'interfaz': 1, 'gráfica.': 1, 'ya': 1, 'vimos': 1, 'gradio,': 1, 'así': 1, 'esta': 1, 'parte': 1, 'te': 1, 'resultará': 1, 'familiar': 1}\n"
          ]
        }
      ],
      "source": [
        "texto = 'Ahora que tenemos el \"cerebro\", vamos a conectarlo a una interfaz gráfica. Ya vimos Gradio, ' \\\n",
        "'así que esta parte te resultará familiar.'\n",
        "\n",
        "resumen, frecuencias = analizar_texto(texto)\n",
        "\n",
        "print(resumen)\n",
        "print(frecuencias)"
      ]
    },
    {
      "cell_type": "markdown",
      "metadata": {
        "id": "gXkqQJaHLJ48"
      },
      "source": [
        "### 🎨 Paso 2: La \"Cara\" de la Aplicación (La Interfaz de Gradio)\n",
        "\n",
        "Ahora que tenemos el \"cerebro\", vamos a conectarlo a una interfaz gráfica. Ya vimos Gradio, así que esta parte te resultará familiar.\n",
        "\n",
        "**Instrucciones:**\n",
        "1.  Observa el esqueleto de `gr.Interface` que te damos.\n",
        "2.  Asegurate de que el parámetro `fn` apunte a tu función `analizar_texto`.\n",
        "3.  Definí los `inputs` y `outputs` correctamente. Queremos una caja de texto grande para la entrada y dos componentes de salida: uno para el resumen y otro para el diccionario de frecuencias.\n",
        "\n",
        "---"
      ]
    },
    {
      "cell_type": "code",
      "execution_count": 30,
      "metadata": {
        "id": "XAn8c8zJLXbU"
      },
      "outputs": [
        {
          "name": "stderr",
          "output_type": "stream",
          "text": [
            "c:\\Users\\Sa\\anaconda3\\Lib\\site-packages\\gradio\\interface.py:414: UserWarning: The `allow_flagging` parameter in `Interface` is deprecated. Use `flagging_mode` instead.\n",
            "  warnings.warn(\n"
          ]
        },
        {
          "name": "stdout",
          "output_type": "stream",
          "text": [
            "* Running on local URL:  http://127.0.0.1:7861\n",
            "\n",
            "Could not create share link. Please check your internet connection or our status page: https://status.gradio.app.\n"
          ]
        },
        {
          "data": {
            "text/html": [
              "<div><iframe src=\"http://127.0.0.1:7861/\" width=\"100%\" height=\"500\" allow=\"autoplay; camera; microphone; clipboard-read; clipboard-write;\" frameborder=\"0\" allowfullscreen></iframe></div>"
            ],
            "text/plain": [
              "<IPython.core.display.HTML object>"
            ]
          },
          "metadata": {},
          "output_type": "display_data"
        },
        {
          "data": {
            "text/plain": []
          },
          "execution_count": 30,
          "metadata": {},
          "output_type": "execute_result"
        }
      ],
      "source": [
        "# --- PASO 2: Configura la Interfaz de Gradio ---\n",
        "demo = gr.Interface(\n",
        "    # TODO 6: Apunta 'fn' a tu función de análisis\n",
        "    fn=analizar_texto,  # Reemplaza con el nombre de tu función\n",
        "\n",
        "    # Configuración de la entrada\n",
        "    inputs=gr.Textbox(lines=10, placeholder=\"Escribí o pega un texto acá para analizarlo...\"),\n",
        "\n",
        "    # TODO 7: Configura las salidas\n",
        "    # Necesitas dos componentes:\n",
        "    # 1. Un Textbox para el resumen (gr.Textbox())\n",
        "    # 2. Un JSON para el diccionario (gr.JSON())\n",
        "    outputs=[\n",
        "        gr.Textbox(label=\"Resumen del Análisis\"),\n",
        "        gr.JSON(label=\"Frecuencia de Palabras\")\n",
        "    ],\n",
        "\n",
        "    # Detalles de la interfaz\n",
        "    title=\"📊 Analizador de Texto Interactivo\",\n",
        "    description=\"Creado por VOS con Python y Gradio. Introducí texto y descubrí sus secretos.\",\n",
        "    allow_flagging=\"never\"\n",
        ")\n",
        "\n",
        "# TODO 8: Descomenta esta línea cuando tu código esté listo\n",
        "demo.launch(share=True)  # share=True crea un enlace público temporal"
      ]
    },
    {
      "cell_type": "markdown",
      "metadata": {
        "id": "m7ugpW26Irjv"
      },
      "source": [
        "---\n",
        "## Glosario Rápido de la Clase 2\n",
        "\n",
        "* **Método**: Una función que \"pertenece\" a un objeto (ej: `mi_texto.strip()`).\n",
        "* **Clase**: El \"plano\" o plantilla para crear objetos. Define sus atributos y métodos.\n",
        "* **Objeto/Instancia**: Una entidad concreta creada a partir de una clase.\n",
        "* **Atributo**: Una variable que \"pertenece\" a un objeto (ej: `procesador.palabras`).\n",
        "* **`self`**: Palabra clave dentro de una clase que se refiere a la instancia actual del objeto.\n",
        "* **POO (Programación Orientada a Objetos)**: Un estilo de programación basado en la idea de agrupar datos y funciones en objetos.\n",
        "---"
      ]
    }
  ],
  "metadata": {
    "colab": {
      "provenance": []
    },
    "kernelspec": {
      "display_name": "base",
      "language": "python",
      "name": "python3"
    },
    "language_info": {
      "codemirror_mode": {
        "name": "ipython",
        "version": 3
      },
      "file_extension": ".py",
      "mimetype": "text/x-python",
      "name": "python",
      "nbconvert_exporter": "python",
      "pygments_lexer": "ipython3",
      "version": "3.12.7"
    }
  },
  "nbformat": 4,
  "nbformat_minor": 0
}
